{
  "nbformat": 4,
  "nbformat_minor": 0,
  "metadata": {
    "colab": {
      "provenance": []
    },
    "kernelspec": {
      "name": "python3",
      "display_name": "Python 3"
    },
    "language_info": {
      "name": "python"
    }
  },
  "cells": [
    {
      "cell_type": "code",
      "execution_count": null,
      "metadata": {
        "id": "DBn8S6-xjD_g"
      },
      "outputs": [],
      "source": []
    },
    {
      "cell_type": "markdown",
      "source": [
        "# Set up\n",
        "The packages we need"
      ],
      "metadata": {
        "id": "WlY80_DrkQ_k"
      }
    },
    {
      "cell_type": "code",
      "source": [
        "import os\n",
        "import re\n",
        "import pandas as pd"
      ],
      "metadata": {
        "id": "Iayo3woJkwkF"
      },
      "execution_count": 1,
      "outputs": []
    },
    {
      "cell_type": "markdown",
      "source": [
        "# Our Dataset\n",
        "The Statistical Accounts of Scotland are a series of documentary publications, related in subject matter though published at different times, covering life in Scotland in the 18th and 19th.\n",
        "\n",
        "The Old (or First) Statistical Account of Scotland was published between 1791 and 1799 by Sir John Sinclair of Ulbster. The New (or Second) Statistical Account of Scotland published under the auspices of the General Assembly of the Church of Scotland between 1834 and 1845. These first two Statistical Accounts of Scotland are unique records of life during the agricultural and industrial revolutions in Europe.\n",
        "\n",
        "## Structure of the dataset\n",
        "The original publication has been scanned and OCRed and each single record has been collected in a .txt file. The name of each file contain information about the document itself. For example StAS.2.15.91.P.Orkney.Cross_and_Burness\n",
        "\n",
        "- StAs.2.15.91 -> Second Statistical Account\n",
        "- P -> Parish (Contain information from the Parish)\n",
        "\n",
        "- Orkney -> Area of interest (Scotland has been divided in 33 Areas)\n",
        "\n",
        "- Cross_and_Burness -> Parish\n",
        "\n",
        "We are going to see how to use this to extract information about all our text later but the first thing we need to do is to create a single dataframe (table) that will contain all the texts otherwise it will be very difficult to manage the data.\n",
        "\n",
        "## Prepare the dataset\n",
        "All our .txt files are in a directory named Account so I can write a function that will loop through each of the files extract the text and the tile of each file and put them all in a table.\n",
        "\n",
        "Doing it manually would take a ridiculous amount of time but that is what computer are for so let’s see what we can do.\n",
        "\n",
        "### 1. Create a new object that contain the path to our directory"
      ],
      "metadata": {
        "id": "uczm9X1Qj35F"
      }
    },
    {
      "cell_type": "code",
      "source": [],
      "metadata": {
        "id": "g-ucKryxk1qJ"
      },
      "execution_count": null,
      "outputs": []
    },
    {
      "cell_type": "code",
      "source": [],
      "metadata": {
        "id": "yNMLHs2CkPR-"
      },
      "execution_count": null,
      "outputs": []
    }
  ]
}
